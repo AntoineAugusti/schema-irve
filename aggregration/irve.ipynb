{
 "cells": [
  {
   "cell_type": "markdown",
   "metadata": {},
   "source": [
    "# Consolidation IRVE"
   ]
  },
  {
   "cell_type": "code",
   "execution_count": 2,
   "metadata": {},
   "outputs": [],
   "source": [
    "import requests\n",
    "import agate\n",
    "\n",
    "from pathlib import Path\n",
    "import cchardet as chardet"
   ]
  },
  {
   "cell_type": "code",
   "execution_count": 3,
   "metadata": {},
   "outputs": [
    {
     "data": {
      "text/plain": [
       "104"
      ]
     },
     "execution_count": 3,
     "metadata": {},
     "output_type": "execute_result"
    }
   ],
   "source": [
    "# get the list of datasets tagged irve on data.gouv.fr\n",
    "\n",
    "url = 'https://www.data.gouv.fr/api/1/datasets/?tag=irve&page_size=1000'\n",
    "r = requests.get(url)\n",
    "datasets = r.json()['data']\n",
    "\n",
    "len(datasets)"
   ]
  },
  {
   "cell_type": "code",
   "execution_count": 5,
   "metadata": {},
   "outputs": [
    {
     "name": "stdout",
     "output_type": "stream",
     "text": [
      "⚠️ ignored file https://www.data.gouv.fr/s/resources/bornes-de-recharge-de-rambouillet-territoires/20180511-093502/IRVE_Data_Gouv_Rambouilllet_Territoires.xlsx\n",
      "✅ downloaded file [BDD_IRVE-RT78.csv] https://www.data.gouv.fr/s/resources/irve-de-rambouillet-territoires/20161025-134007/BDD_IRVE-RT78.csv\n",
      "⚠️ ignored file https://www.data.gouv.fr/s/resources/borne-de-recharge-syndicat-departemental-denergie-du-gers-2/20160411-095030/Borne_de_recharge_Syndicat_Departemental_dEnergie_du_Gers.xls\n",
      "✅ downloaded file [IRVE_VILLEDEBEAUVAIS_20170320.csv] https://www.data.gouv.fr/s/resources/bornes-de-recharge-de-la-ville-de-beauvais/20170320-135208/IRVE_VILLEDEBEAUVAIS_20170320.csv\n",
      "✅ downloaded file [IRVE_Se61_20180615.csv] https://www.data.gouv.fr/s/resources/irve-se61-20170306/20180724-160703/IRVE_Se61_20180615.csv\n",
      "✅ downloaded file [IRVE_Se61_20170306.csv] https://www.data.gouv.fr/s/resources/irve-se61-20170306/20170307-100241/IRVE_Se61_20170306.csv\n",
      "⚠️ ignored file https://www.data.gouv.fr/s/resources/reseau-de-bornes-de-recharge-pour-vehicules-electrique-sur-la-territoire-de-lagglomeration-maubeuge-val-de-sambre/20170905-171948/liste_bornes_CAMVS_2017.xlsx\n",
      "✅ downloaded file [IRVE_SDEA_20180503.csv] https://www.data.gouv.fr/s/resources/bornes-de-recharge-de-laube-irve/20180503-181544/IRVE_SDEA_20180503.csv\n",
      "⚠️ ignored file https://static.data.gouv.fr/resources/bornes-de-recharge-pour-vehicules-electriques-sde29/20190118-141912/irve-sde29-20190118.xls\n",
      "✅ downloaded file [IRVE_SDE29_20180404.csv] https://www.data.gouv.fr/s/resources/bornes-de-recharge-pour-vehicules-electriques-sde29/20180404-113045/IRVE_SDE29_20180404.csv\n",
      "✅ downloaded file [IRVE_SDE29_20170822.csv] https://www.data.gouv.fr/s/resources/bornes-de-recharge-pour-vehicules-electriques-sde29/20170822-154109/IRVE_SDE29_20170822.csv\n",
      "✅ downloaded file [IRVE_SDE29_20170515.csv] https://www.data.gouv.fr/s/resources/bornes-de-recharge-pour-vehicules-electriques-sde29/20170523-150556/IRVE_SDE29_20170515.csv\n",
      "✅ downloaded file [IRVE_SDE29_20170126.csv] https://www.data.gouv.fr/s/resources/bornes-de-recharge-pour-vehicules-electriques-sde29/20170208-155651/IRVE_SDE29_20170126.csv\n",
      "✅ downloaded file [tableau-irve-gouv.csv] https://static.data.gouv.fr/resources/installations-de-recharge-de-vehicules-electriques/20190212-105902/tableau-irve-gouv.csv\n",
      "✅ downloaded file [irve-sdesm-20190213.csv] https://static.data.gouv.fr/resources/bornes-de-recharges-ecocharge77/20190218-173612/irve-sdesm-20190213.csv\n",
      "✅ downloaded file [irve-sieil37-20190219.csv] https://static.data.gouv.fr/resources/infrastructure-de-recharge-pour-vehicules-electriques-et-hybrides-rechargeables-du-syndicat-intercommunal-denergie-dindre-et-loire-1/20190219-150514/irve-sieil37-20190219.csv\n",
      "✅ downloaded file [IRVE_SIEIL37_20170321.csv] https://www.data.gouv.fr/s/resources/infrastructure-de-recharge-pour-vehicules-electriques-et-hybrides-rechargeables-du-syndicat-intercommunal-denergie-dindre-et-loire-1/20170321-154447/IRVE_SIEIL37_20170321.csv\n",
      "⚠️ ignored file https://www.data.gouv.fr/s/resources/infrastructure-de-recharge-pour-vehicules-electriques-et-hybrides-rechargeables-du-syndicat-intercommunal-denergie-dindre-et-loire-1/20170321-154359/IRVE_SIEIL37_20170321.xlsx\n",
      "✅ downloaded file [irve-sydev-20190225.csv] https://static.data.gouv.fr/resources/stations-de-recharge-pour-vehicules-electriques-sur-le-territoire-vendeen/20190225-121118/irve-sydev-20190225.csv\n",
      "✅ downloaded file [20190111-enersieil.csv] https://static.data.gouv.fr/resources/bornes-de-recharge-du-reseau-enersieil/20190313-165133/20190111-enersieil.csv\n",
      "✅ downloaded file [20181130-sde28.csv] https://static.data.gouv.fr/resources/bornes-de-recharge-du-reseau-sde28/20190313-172242/20181130-sde28.csv\n",
      "⚠️ ignored file https://www.data.gouv.fr/s/resources/se61-infrastructures-de-recharge-pour-vehicules-electriques-dans-lorne-61/20170301-202526/Stations-recharge-VE-Se61_01_03_2017.xlsx\n",
      "⚠️ ignored file https://www.data.gouv.fr/s/resources/se61-infrastructures-de-recharge-pour-vehicules-electriques-dans-lorne-61/20161129-175841/Stations-recharge-VE-Se61_29_11_2016.xlsx\n",
      "⚠️ ignored file https://www.data.gouv.fr/s/resources/se61-infrastructures-de-recharge-pour-vehicules-electriques-dans-lorne-61/20161129-175757/Stations-recharge-VE-Se61_29_11_2016.xlsx\n",
      "✅ downloaded file [irve-syme05-20190509.csv] https://static.data.gouv.fr/resources/syme05-bornes-de-recharge-pour-vehicule-electrique/20190510-113325/irve-syme05-20190509.csv\n",
      "✅ downloaded file [irve-structure.csv] https://static.data.gouv.fr/resources/bornes-de-recharge-electrique-parking-mairie-1/20190319-080639/irve-structure.csv\n",
      "⚠️ ignored file https://www.data.gouv.fr/s/resources/bornes-de-recharges-pour-vehicules-elecrtiques/20180531-161931/Bornes-Recharges_electriques.geojson\n",
      "✅ downloaded file [BORNE_RECHARGE_ELECTRIQUE_WGS84.csv] https://www.data.gouv.fr/s/resources/bornes-de-recharges-pour-vehicules-elecrtiques/20180531-161844/BORNE_RECHARGE_ELECTRIQUE_WGS84.csv\n",
      "✅ downloaded file [irve-alize-liberte-20190513.csv] https://static.data.gouv.fr/resources/infrastructures-de-recharge-pour-vehicules-electriques-alize-liberte/20190513-103939/irve-alize-liberte-20190513.csv\n",
      "⚠️ ignored file https://www.google.com/maps/d/edit?mid=1Q6myU4iCCVdUBxJwwLGO8FNDSOeq_qjh&ll=43.467364911146504%2C6.254934645507774&z=10\n",
      "✅ downloaded file [irve-mouvelecvar-20190416.csv] https://static.data.gouv.fr/resources/irve-bornes-de-recharge-pour-vehicule-electrique-departement-du-var-mouvelecvar/20190416-162017/irve-mouvelecvar-20190416.csv\n",
      "⚠️ ignored file https://drive.google.com/open?id=1nWwqmCsRqMZ86hLmWGg95hQ5hIbaE5YP&usp=sharing\n",
      "⚠️ ignored file https://docs.google.com/document/d/1aGuYWvSmPuzrSkZ5vltW4LS1v7RCJZnnkaIiEUAiNrA/edit?usp=sharing\n",
      "✅ downloaded file [points-recharges-electriques-parkings.csv] https://saemes.opendatasoft.com/explore/dataset/points-recharges-electriques-parkings/download?format=csv&timezone=Europe/Berlin&use_labels_for_header=true\n",
      "⚠️ ignored file https://saemes.opendatasoft.com/explore/dataset/points-recharges-electriques-parkings/download?format=json&timezone=Europe/Berlin&use_labels_for_header=true\n",
      "⚠️ ignored file https://saemes.opendatasoft.com/explore/dataset/points-recharges-electriques-parkings/download?format=geojson&timezone=Europe/Berlin&use_labels_for_header=true\n",
      "⚠️ ignored file https://saemes.opendatasoft.com/explore/dataset/points-recharges-electriques-parkings/download?format=shp&timezone=Europe/Berlin&use_labels_for_header=true\n",
      "✅ downloaded file [bornes-de-recharge-dediees-aux-vehicules-electriques-sur-le-territoire-de-rennes.csv] https://data.rennesmetropole.fr/explore/dataset/bornes-de-recharge-dediees-aux-vehicules-electriques-sur-le-territoire-de-rennes/download?format=csv&timezone=Europe/Berlin&use_labels_for_header=true\n",
      "⚠️ ignored file https://data.rennesmetropole.fr/explore/dataset/bornes-de-recharge-dediees-aux-vehicules-electriques-sur-le-territoire-de-rennes/download?format=json&timezone=Europe/Berlin&use_labels_for_header=true\n",
      "⚠️ ignored file https://data.rennesmetropole.fr/explore/dataset/bornes-de-recharge-dediees-aux-vehicules-electriques-sur-le-territoire-de-rennes/download?format=geojson&timezone=Europe/Berlin&use_labels_for_header=true\n",
      "⚠️ ignored file https://data.rennesmetropole.fr/explore/dataset/bornes-de-recharge-dediees-aux-vehicules-electriques-sur-le-territoire-de-rennes/download?format=shp&timezone=Europe/Berlin&use_labels_for_header=true\n",
      "⚠️ ignored file https://docs.google.com/document/d/1GJFfemzi2EX-6D9t6yXcCfhkpH2rSV1ZDQvGON-DB-Q/\n",
      "⚠️ ignored file https://www.data.gouv.fr/s/resources/documents-pour-les-utilisateurs-de-bornes-electriques/20161217-152234/AUBE_Kit_Papillon_Vigilance.jpg\n"
     ]
    },
    {
     "name": "stderr",
     "output_type": "stream",
     "text": [
      "/opt/conda/lib/python3.7/socket.py:660: ResourceWarning: unclosed <socket.socket fd=44, family=AddressFamily.AF_INET, type=SocketKind.SOCK_STREAM, proto=6, laddr=('172.18.0.3', 53456), raddr=('95.143.69.247', 443)>\n"
     ]
    },
    {
     "name": "stdout",
     "output_type": "stream",
     "text": [
      "✅ downloaded file [bornes-recharge-agregation-region-v09022018v6.csv] https://trouver.datasud.fr/dataset/400beba7-5c2e-4097-a718-53262baa2ed0/resource/e86ae03b-069c-4961-a65b-52b8a6788d1c/download/bornes-recharge-agregation-region-v09022018v6.csv\n"
     ]
    },
    {
     "name": "stderr",
     "output_type": "stream",
     "text": [
      "/opt/conda/lib/python3.7/socket.py:660: ResourceWarning: unclosed <socket.socket fd=44, family=AddressFamily.AF_INET, type=SocketKind.SOCK_STREAM, proto=6, laddr=('172.18.0.3', 53458), raddr=('95.143.69.247', 443)>\n"
     ]
    },
    {
     "name": "stdout",
     "output_type": "stream",
     "text": [
      "✅ downloaded file [irve-regionsud-010402019.csv] https://trouver.datasud.fr/dataset/400beba7-5c2e-4097-a718-53262baa2ed0/resource/7b33cfe5-534e-478c-b2a1-bd3dd0e38132/download/irve-regionsud-010402019.csv\n",
      "✅ downloaded file [irve-mel-20190227.csv] https://static.data.gouv.fr/resources/localisation-des-bornes-de-recharge-pour-vehicules-electriques/20190227-143700/irve-mel-20190227.csv\n",
      "✅ downloaded file [bornes-recharge-mel.csv] https://opendata.lillemetropole.fr/explore/dataset/bornes-recharge-mel/download?format=csv&timezone=Europe/Berlin&use_labels_for_header=true\n",
      "⚠️ ignored file https://opendata.lillemetropole.fr/explore/dataset/bornes-recharge-mel/download?format=json&timezone=Europe/Berlin&use_labels_for_header=true\n",
      "⚠️ ignored file https://opendata.lillemetropole.fr/explore/dataset/bornes-recharge-mel/download?format=geojson&timezone=Europe/Berlin&use_labels_for_header=true\n",
      "⚠️ ignored file https://opendata.lillemetropole.fr/explore/dataset/bornes-recharge-mel/download?format=shp&timezone=Europe/Berlin&use_labels_for_header=true\n",
      "⚠️ ignored file https://www.data.gouv.fr/s/resources/bornes-de-charge-pour-vehicules-electriques-communaute-de-communes-flandre-lys/20180729-201036/Bornes_electriques_territoire_CCFL.xls\n",
      "⚠️ ignored file https://www.data.gouv.fr/s/resources/bornes-de-recharge-pour-vehicule-electrique/20180514-105800/IRVE_BOE.json\n",
      "⚠️ ignored file https://www.data.gouv.fr/s/resources/bornes-de-recharge-pour-vehicule-electrique/20180514-105739/IRVE_BOE.xls\n",
      "⚠️ ignored file https://www.data.gouv.fr/s/resources/bornes-de-recharge-pour-vehicule-electrique/20180514-105705/IRVE_BOE.xls\n",
      "⚠️ ignored file https://www.data.gouv.fr/s/resources/liste-des-15-bornes-publiques-de-recharge-pour-vehicules-electriques/20180622-105937/IRVE_Izyborne_20180622.xlsx\n",
      "⚠️ ignored file https://www.data.gouv.fr/s/resources/jeu-de-donnees-c-car/20170529-175757/station_de_recharge_C-CAR.xlsx\n",
      "✅ downloaded file [irve-saint-louis-20180814.csv] https://static.data.gouv.fr/resources/saint-louis-agglomeration-bornes-de-recharge-pour-vehicule-electrique/20180829-151948/irve-saint-louis-20180814.csv\n",
      "⚠️ ignored file https://static.data.gouv.fr/resources/reseau-brevcar-bornes-de-recharge-pour-vehicules-electrique-du-syndicat-departemental-delectricite-des-cotes-darmor-sde22/20181002-084249/reseau-brevcar-01102018.xlsx\n",
      "✅ downloaded file [Reseau_Brevcar_09042018.csv] https://www.data.gouv.fr/s/resources/reseau-brevcar-bornes-de-recharge-pour-vehicules-electrique-du-syndicat-departemental-delectricite-des-cotes-darmor-sde22/20180409-094932/Reseau_Brevcar_09042018.csv\n",
      "✅ downloaded file [data_gouv_18.csv] https://www.data.gouv.fr/s/resources/reseau-brevcar-bornes-de-recharge-pour-vehicules-electrique-du-syndicat-departemental-delectricite-des-cotes-darmor-sde22/20180116-160912/data_gouv_18.csv\n",
      "⚠️ ignored file https://www.data.gouv.fr/s/resources/reseau-brevcar-bornes-de-recharge-pour-vehicules-electrique-du-syndicat-departemental-delectricite-des-cotes-darmor-sde22/20170911-132756/IRVE_SDE_22.xls\n",
      "⚠️ ignored file https://www.data.gouv.fr/s/resources/infrastructures-de-recharge-pour-vehicules-electriques-corri-door/20180129-171132/Fichier_datagouv_CorriDoor_janvier_2018.xlsx\n",
      "✅ downloaded file [irve-mobisdec-20180927.csv] https://static.data.gouv.fr/resources/bornes-de-recharge-mobisdec-syndicat-departemental-denergies-du-calvados/20180927-141051/irve-mobisdec-20180927.csv\n",
      "⚠️ ignored file https://www.data.gouv.fr/s/resources/bornes-de-recharge-mobisdec-syndicat-departemental-denergies-du-calvados/20170620-081755/Stations-recharge-VE-CALVADOS_SDEC_ENERGIE_20170620.xlsx\n",
      "⚠️ ignored file https://www.data.gouv.fr/s/resources/bornes-de-recharge-pour-vehicules-electriques-parking-effia/20150520-171742/Stations-recharge-VE-EFFIA.xls\n",
      "✅ downloaded file [Stations-recharge-VE-EFFIA.csv] https://www.data.gouv.fr/s/resources/bornes-de-recharge-pour-vehicules-electriques-parking-effia/20150520-171722/Stations-recharge-VE-EFFIA.csv\n",
      "✅ downloaded file [irve-mobiloire-20181221.csv] https://static.data.gouv.fr/resources/reseau-mobiloire-irve-publique-du-departement-de-la-loire/20181221-100441/irve-mobiloire-20181221.csv\n",
      "⚠️ ignored file https://www.data.gouv.fr/s/resources/bornes-de-recharge-sde03/20170117-084058/Fichier_DataGouv_17-01-17.xlsx\n",
      "⚠️ ignored file https://www.data.gouv.fr/s/resources/bornes-de-recharge-sde03/20170117-084031/Fichier_DataGouv_17-01-17.xlsx\n",
      "⚠️ ignored file https://www.data.gouv.fr/s/resources/bornes-de-recharge-sde03/20160614-103821/FFichier_DataGouv_SDE03_160609.xlsx\n",
      "✅ downloaded file [IRVE_SDE65_20171020.csv] https://www.data.gouv.fr/s/resources/reseau-de-bornes-de-recharge-pour-vehicules-electriques-du-syndicat-departemental-denergie-des-hautes-pyrenees-sde65/20171020-145714/IRVE_SDE65_20171020.csv\n",
      "✅ downloaded file [irve-sdey-20190509.csv] https://static.data.gouv.fr/resources/sdey-bornes-de-recharge-pour-vehicule-electrique/20190510-102447/irve-sdey-20190509.csv\n",
      "✅ downloaded file [IRVE_NOM_AAAAMMJJ_a_renseigner.csv] https://www.data.gouv.fr/s/resources/fichiers-pour-les-infrastructures-de-recharge-de-vehicules-electriques/20170214-162500/IRVE_NOM_AAAAMMJJ_a_renseigner.csv\n",
      "⚠️ ignored file https://www.data.gouv.fr/s/resources/fichiers-pour-les-infrastructures-de-recharge-de-vehicules-electriques/20170122-171125/IRVE_modele_pour_fichier_CSV.xls\n",
      "⚠️ ignored file https://www.data.gouv.fr/s/resources/fichiers-pour-les-infrastructures-de-recharge-de-vehicules-electriques/20170205-204317/AUBE_IRVE_Identifiants_AFIREV.xlsx\n",
      "✅ downloaded file [irve-tesla-supercharger-20181130.csv] https://static.data.gouv.fr/resources/stations-supercharger-tesla/20181130-201348/irve-tesla-supercharger-20181130.csv\n",
      "⚠️ ignored file https://static.data.gouv.fr/resources/stations-supercharger-tesla/20181130-201406/irve-tesla-supercharger-20181130.xlsx\n",
      "✅ downloaded file [irve-reveo-20190513.csv] https://static.data.gouv.fr/resources/infrastructures-de-recharge-pour-vehicules-electriques-reveo-1/20190513-104016/irve-reveo-20190513.csv\n",
      "⚠️ ignored file https://www.data.gouv.fr/s/resources/points-de-recharge-de-vehicules-electriques-administres-par-mopeasy/20160106-143836/OpenData-bornes-MOVeasy.ods\n",
      "✅ downloaded file [bornes-irve-20190405.csv] https://static.data.gouv.fr/resources/fichier-consolide-des-bornes-de-recharge-pour-vehicules-electriques/20190405-112406/bornes-irve-20190405.csv\n",
      "✅ downloaded file [bornes-irve-20190405.csv] https://static.data.gouv.fr/resources/fichier-consolide-des-bornes-de-recharge-pour-vehicules-electriques/20190405-112406/bornes-irve-20190405.csv\n",
      "✅ downloaded file [bornes-irve-20190308.csv] https://static.data.gouv.fr/resources/fichier-consolide-des-bornes-de-recharge-pour-vehicules-electriques/20190308-134811/bornes-irve-20190308.csv\n",
      "✅ downloaded file [bornes-irve-20193001.csv] https://static.data.gouv.fr/resources/fichier-consolide-des-bornes-de-recharge-pour-vehicules-electriques/20190130-165002/bornes-irve-20193001.csv\n",
      "✅ downloaded file [bornes-irve.csv] https://static.data.gouv.fr/resources/fichier-consolide-des-bornes-de-recharge-pour-vehicules-electriques/20181211-121636/bornes-irve.csv\n",
      "✅ downloaded file [bornes-irve-20181022.csv] https://static.data.gouv.fr/resources/fichier-consolide-des-bornes-de-recharge-pour-vehicules-electriques/20181022-100255/bornes-irve-20181022.csv\n",
      "✅ downloaded file [20180928-bornes-irve.csv] https://static.data.gouv.fr/resources/fichier-consolide-des-bornes-de-recharge-pour-vehicules-electriques-irve/20180928-171452/20180928-bornes-irve.csv\n",
      "✅ downloaded file [IRVE-201605.csv] https://www.data.gouv.fr/s/resources/fichier-consolide-des-bornes-de-recharge-pour-vehicules-electriques-irve/20160526-112003/IRVE-201605.csv\n",
      "✅ downloaded file [IRVE-201510.csv] https://www.data.gouv.fr/s/resources/fichier-consolide-des-bornes-de-recharge-pour-vehicules-electriques-irve/20151008-182813/IRVE-201510.csv\n",
      "✅ downloaded file [IRVE.csv] https://www.data.gouv.fr/s/resources/fichier-consolide-des-bornes-de-recharge-pour-vehicules-electriques-irve/community/20141212-175434/IRVE.csv\n",
      "✅ downloaded file [IRVE.csv] https://www.data.gouv.fr/s/resources/fichier-consolide-des-bornes-de-recharge-pour-vehicules-electriques-irve/20141024-183917/IRVE.csv\n",
      "✅ downloaded file [irve-sdehg-20190528.csv] https://static.data.gouv.fr/resources/reseau-de-bornes-de-recharge-pour-vehicules-electriques-31-irve/20190528-143810/irve-sdehg-20190528.csv\n"
     ]
    },
    {
     "name": "stderr",
     "output_type": "stream",
     "text": [
      "/opt/conda/lib/python3.7/socket.py:660: ResourceWarning: unclosed <socket.socket fd=44, family=AddressFamily.AF_INET, type=SocketKind.SOCK_STREAM, proto=6, laddr=('172.18.0.3', 43732), raddr=('31.172.165.248', 443)>\n"
     ]
    },
    {
     "name": "stdout",
     "output_type": "stream",
     "text": [
      "✅ downloaded file [irve_wiiizcapg_20180516.csv] https://opendata.ozwillo.com/dataset/5b3f7e3c-df70-4552-8b48-5e96c2009edc/resource/931f6677-cafa-4245-a43f-907d966d3f17/download/irve_wiiizcapg_20180516.csv\n",
      "✅ downloaded file [IRVE_SIDELC_20180209.csv] https://www.data.gouv.fr/s/resources/infrastructures-de-recharge-pour-vehicules-electriques-sidelc/20180209-104502/IRVE_SIDELC_20180209.csv\n",
      "⚠️ ignored file https://www.data.gouv.fr/s/resources/infrastructures-de-recharge-pour-vehicules-electriques-reseau-electricite-seine-aval/20160315-165528/20160315_-_ElectriCite_Seine_Aval_-_FRA01-_data.gouv.xlsx\n",
      "⚠️ ignored file https://www.data.gouv.fr/s/resources/infrastructure-de-recharge-pour-vehicules-electriques-en-seine-et-marne-ecocharge-77/20161220-104317/SDESM-Stations-recharge-VE.3.xlsx\n",
      "⚠️ ignored file https://www.data.gouv.fr/s/resources/borne-de-recharge-de-vehicules-electriques/20161126-183750/Stations-recharge-VE-La_Norma.xlsx\n",
      "⚠️ ignored file https://www.data.gouv.fr/s/resources/infrastructure-de-recharge-pour-vehicules-electriques-irve-du-territoire-de-la-communaute-de-communes-de-la-haute-vallee-de-chevreuse-cchvc/20161024-185250/tableau_CCHVC_data_gouv.fr_19102016.xlsx\n",
      "⚠️ ignored file https://www.data.gouv.fr/storage/f/2014-09-15T11-59-24/d-localdata-a186081-desktop-infra-recharge-reseau-renault-france.xlsx\n",
      "✅ downloaded file [d-localdata-a186081-desktop-infra-recharge-reseau-renault-france.csv] https://www.data.gouv.fr/storage/f/2014-09-15T11-59-56/d-localdata-a186081-desktop-infra-recharge-reseau-renault-france.csv\n",
      "✅ downloaded file [20181130-te61.csv] https://static.data.gouv.fr/resources/bornes-de-recharge-du-reseau-te61/20190313-171840/20181130-te61.csv\n",
      "✅ downloaded file [irve-reseaualterbase-20190416.csv.csv] https://static.data.gouv.fr/resources/reseau-alterbase/20190416-152005/irve-reseaualterbase-20190416.csv.csv\n",
      "✅ downloaded file [IRVE_reseauAlterBase_20171116.CSV.csv] https://www.data.gouv.fr/s/resources/reseau-alterbase/20171123-085201/IRVE_reseauAlterBase_20171116.CSV.csv\n",
      "✅ downloaded file [IRVE_reseauAlterBase_20170213.CSV.csv] https://www.data.gouv.fr/s/resources/reseau-alterbase/20170213-164548/IRVE_reseauAlterBase_20170213.CSV.csv\n",
      "✅ downloaded file [irve-sded-20190509.csv] https://static.data.gouv.fr/resources/sded-bornes-de-recharge-pour-vehicule-electrique/20190510-102254/irve-sded-20190509.csv\n",
      "✅ downloaded file [irve-sieml-20190513.csv] https://static.data.gouv.fr/resources/infrastructures-de-recharge-pour-vehicules-electriques-sieml/20190513-104048/irve-sieml-20190513.csv\n",
      "✅ downloaded file [IRVE_SIDELC_20171011.csv] https://www.data.gouv.fr/s/resources/infrastructure-de-recharge-pour-vehicules-electriques-et-hybrides-rechargeables-du-syndicat-intercommunal-de-distribution-denergie-de-loir-et-cher/20171011-164115/IRVE_SIDELC_20171011.csv\n",
      "✅ downloaded file [IRVE_SYDESL_20180104.csv] https://www.data.gouv.fr/s/resources/infrastructure-de-recharge-pour-vehicules-electriques/20180105-163353/IRVE_SYDESL_20180104.csv\n",
      "⚠️ ignored file https://www.data.gouv.fr/s/resources/sde07-bornes-de-recharge-pour-vehicule-electrique/20161129-121609/Stations-recharge-VE-SDE07_20161129.xlsx\n",
      "✅ downloaded file [IRVE_CCHVC180222.csv] https://www.data.gouv.fr/s/resources/bornes-de-recharge-de-la-cchvc-communaute-de-communes-de-la-haute-vallee-de-chevreuse-1/20180222-115126/IRVE_CCHVC180222.csv\n",
      "✅ downloaded file [irve-wiiizcapg-20181005.csv] https://static.data.gouv.fr/resources/infrastructures-de-recharge-pour-vehicules-electriques-irve-1/20181016-090140/irve-wiiizcapg-20181005.csv\n",
      "✅ downloaded file [IRVE_USEDADIRVE02_20180806.csv] https://static.data.gouv.fr/resources/useda-dirve02/20180806-152252/IRVE_USEDADIRVE02_20180806.csv\n",
      "✅ downloaded file [IRVE_USEDADIRVE02_20180125.csv] https://www.data.gouv.fr/s/resources/useda-dirve02/20180125-160036/IRVE_USEDADIRVE02_20180125.csv\n",
      "✅ downloaded file [IRVE_USEDADIRVE02_20170623.csv] https://www.data.gouv.fr/s/resources/useda-dirve02/20170623-143528/IRVE_USEDADIRVE02_20170623.csv\n",
      "✅ downloaded file [IRVE_USEDADIRVE02_20170316.csv] https://www.data.gouv.fr/s/resources/useda-dirve02/20170316-111520/IRVE_USEDADIRVE02_20170316.csv\n",
      "✅ downloaded file [IRVE_USEDADIRVE02_20170207.csv] https://www.data.gouv.fr/s/resources/useda-dirve02/20170207-144515/IRVE_USEDADIRVE02_20170207.csv\n",
      "✅ downloaded file [IRVE_USEDADIRVE02_20170120.csv] https://www.data.gouv.fr/s/resources/useda-dirve02/20170123-081540/IRVE_USEDADIRVE02_20170120.csv\n",
      "✅ downloaded file [irve-syded-20190228.csv] https://static.data.gouv.fr/resources/irve-syded-recensement-et-information/20190228-170937/irve-syded-20190228.csv\n",
      "⚠️ ignored file https://www.data.gouv.fr/s/resources/localisation-des-bornes-electriques-sur-le-territoire-de-la-communaute-dagglomeration-du-douaisis/20171205-183059/Fiche_technique_borne_rapide_45_KVA.pdf\n",
      "⚠️ ignored file https://www.data.gouv.fr/s/resources/localisation-des-bornes-electriques-sur-le-territoire-de-la-communaute-dagglomeration-du-douaisis/20171205-184800/Fiche_technique_borne_accelerees_22_Kva.pdf\n",
      "✅ downloaded file [LocalisationBornesElectCAD.csv] https://www.data.gouv.fr/s/resources/localisation-des-bornes-electriques-sur-le-territoire-de-la-communaute-dagglomeration-du-douaisis/20171205-181952/LocalisationBornesElectCAD.csv\n",
      "⚠️ ignored file https://static.data.gouv.fr/resources/installations-de-bornes-de-recharge-de-vehicules-electriques/20181023-163014/station-hydrogene-cgle-20181023.xlsx\n",
      "⚠️ ignored file https://static.data.gouv.fr/resources/installations-de-bornes-de-recharge-de-vehicules-electriques/20181023-160941/irve-cgle-20181023.xlsx\n",
      "⚠️ ignored file https://www.data.gouv.fr/s/resources/borne-de-recharge/20180530-121046/data_gouv_SMOYS.xlsx\n",
      "✅ downloaded file [irve-wiiizcasa-20181005.csv] https://static.data.gouv.fr/resources/infrastructures-de-recharge-pour-vehicules-electriques-irve/20181015-145030/irve-wiiizcasa-20181005.csv\n",
      "⚠️ ignored file https://static.data.gouv.fr/resources/infrastructures-de-recharge-pour-vehicules-electriques-irve/20181015-142721/arrete-irve-joe-20170113-0011-0013.pdf\n",
      "✅ downloaded file [irve-tesla-destination-charging-20181130.csv] https://static.data.gouv.fr/resources/recharge-a-destination-tesla/20181130-201629/irve-tesla-destination-charging-20181130.csv\n",
      "⚠️ ignored file https://static.data.gouv.fr/resources/recharge-a-destination-tesla/20181130-201640/irve-tesla-destination-charging-20181130.xlsx\n",
      "✅ downloaded file [irve-sedi-20190509.csv] https://static.data.gouv.fr/resources/sedi-bornes-de-recharge-pour-vehicule-electrique/20190510-110536/irve-sedi-20190509.csv\n",
      "✅ downloaded file [OpenData-prises-Clem-mobilite.csv] https://www.data.gouv.fr/s/resources/bornes-de-recharge-clem-mobilite/20161109-125042/OpenData-prises-Clem-mobilite.csv\n",
      "✅ downloaded file [irve-sied70-20190228.csv] https://static.data.gouv.fr/resources/irve-sied70-recensement-et-information/20190228-173321/irve-sied70-20190228.csv\n",
      "✅ downloaded file [irve-mobive-20190513.csv] https://static.data.gouv.fr/resources/infrastructures-de-recharge-pour-vehicules-electriques-mobive/20190513-104018/irve-mobive-20190513.csv\n",
      "✅ downloaded file [irve-tem53-20190513.csv] https://static.data.gouv.fr/resources/infrastructures-de-recharge-pour-vehicules-electriques-te53/20190513-104002/irve-tem53-20190513.csv\n",
      "⚠️ ignored file https://www.data.gouv.fr/s/resources/reseau-bornes-de-recharge-rapide-auchan/20150902-145630/2015_09_01_Liste_Bornes_Rapide_AUCHAN.xlsx\n",
      "✅ downloaded file [irve-paris-recharge-20181207.csv] https://static.data.gouv.fr/resources/paris-recharge/20181207-071323/irve-paris-recharge-20181207.csv\n",
      "✅ downloaded file [irve-sde18-20180919.csv] https://static.data.gouv.fr/resources/bornes-de-recharge-e-car18/20180919-161532/irve-sde18-20180919.csv\n",
      "⚠️ ignored file https://static.data.gouv.fr/resources/bornes-de-recharge-e-car18/20180919-161600/irve-sde18-20180919.xlsx\n",
      "⚠️ ignored file https://static.data.gouv.fr/resources/bornes-de-recharge-du-reseau-belib/20190429-143632/data-gouv-belib-29-04-2019-open-data-corrige-v75.xls\n",
      "⚠️ ignored file https://www.data.gouv.fr/s/resources/bornes-de-recharge-du-reseau-belib/20161215-151621/fichier_ref_Belib_29_11_2016-open_data.xls\n",
      "⚠️ ignored file https://www.data.gouv.fr/_uploads/resources/BornesRecharge2014_1.xlsx\n",
      "✅ downloaded file [dataset.csv] http://opendata.paris.fr/explore/dataset/stations_et_espaces_autolib_de_la_metropole_parisienne/download?format=csv\n",
      "⚠️ ignored file http://opendata.paris.fr/explore/dataset/stations_et_espaces_autolib_de_la_metropole_parisienne/download?format=json\n",
      "⚠️ ignored file http://opendata.paris.fr/explore/dataset/stations_et_espaces_autolib_de_la_metropole_parisienne/download?format=xls\n",
      "⚠️ ignored file http://opendata.paris.fr/explore/dataset/stations_et_espaces_autolib_de_la_metropole_parisienne/download?format=shp\n",
      "✅ downloaded file [dataset.csv] http://opendata.paris.fr/explore/dataset/stations_et_espaces_autolib_de_la_metropole_parisienne/download?format=csv\n",
      "⚠️ ignored file http://opendata.paris.fr/explore/dataset/stations_et_espaces_autolib_de_la_metropole_parisienne/download?format=json\n",
      "⚠️ ignored file http://opendata.paris.fr/explore/dataset/stations_et_espaces_autolib_de_la_metropole_parisienne/download?format=xls\n",
      "⚠️ ignored file http://opendata.paris.fr/explore/dataset/stations_et_espaces_autolib_de_la_metropole_parisienne/download?format=shp\n",
      "✅ downloaded file [GPS_IRVE.csv] https://www.data.gouv.fr/s/resources/bornes-de-recharge-de-la-communaute-dagglomeration-du-boulonnais/20171117-101237/GPS_IRVE.csv\n",
      "✅ downloaded file [IRVE_PASS_PASS_ELECTRIQUE_Valenciennes_Metropole.csv] https://www.data.gouv.fr/s/resources/bornes-de-recharge-pour-vehicules-electriques-1/20170720-170303/IRVE_PASS_PASS_ELECTRIQUE_Valenciennes_Metropole.csv\n",
      "✅ downloaded file [IRVE_SEIPC.csv] https://www.data.gouv.fr/s/resources/bornes-de-recharges-vehicules-electriques/20160613-155521/IRVE_SEIPC.csv\n",
      "✅ downloaded file [IRVE_SDEY_YONNE_20170519.csv] https://www.data.gouv.fr/s/resources/irve-sdey-yonne-20170519/20170519-153603/IRVE_SDEY_YONNE_20170519.csv\n",
      "✅ downloaded file [20180711Opendata_ADP.csv] https://www.data.gouv.fr/s/resources/infrastructures-de-recharge-pour-vehicules-electriques-paris-aeroports/20180711-175606/20180711Opendata_ADP.csv\n",
      "⚠️ ignored file https://www.data.gouv.fr/s/resources/infrastructures-de-recharge-pour-vehicules-electriques-vincipark/20160523-172517/Stations-recharge-VE-data.gouv.xlsx\n",
      "⚠️ ignored file https://www.data.gouv.fr/s/resources/infrastructures-de-recharge-pour-vehicules-electriques-vincipark/20160527-102724/Stations-recharge-VE-indigo_3.xlsx\n",
      "⚠️ ignored file https://www.data.gouv.fr/s/resources/reseau-bornes-de-recharge-rapide-concessions-nissan/20150123-140912/BORNES_DE_RECHARGE_RAPIDE_CONCESSIONS_NISSAN.xlsx\n",
      "✅ downloaded file [irve-siege27-20181112.csv] https://static.data.gouv.fr/resources/reseau-de-bornes-de-recharge-pour-vehicules-electriques-irve/20181112-165602/irve-siege27-20181112.csv\n",
      "⚠️ ignored file https://static.data.gouv.fr/resources/reseau-de-bornes-de-recharge-pour-vehicules-electriques-irve/20181112-165548/irve-siege27-20181112.xlsx\n",
      "✅ downloaded file [IRVE_CNR_20180420.csv] https://www.data.gouv.fr/s/resources/infrastructures-de-recharge-pour-vehicules-electriques/20180420-152231/IRVE_CNR_20180420.csv\n",
      "✅ downloaded file [IRVE_SAINTEADRESSE_01062018.csv] https://www.data.gouv.fr/s/resources/infrastructure-de-recharge-pour-vehicules-electriques-irve-sainte-adresse/20180601-111733/IRVE_SAINTEADRESSE_01062018.csv\n",
      "✅ downloaded file [irve-plusdebornes-20170314-a-jour.csv] https://static.data.gouv.fr/resources/caracteristiques-des-points-de-charge-pour-vehicules-electriques-plus-de-bornes-ouverts-au-public/20181017-115621/irve-plusdebornes-20170314-a-jour.csv\n",
      "✅ downloaded file [IRVE_PlusDeBornes_20170314.csv] https://www.data.gouv.fr/s/resources/caracteristiques-des-points-de-charge-pour-vehicules-electriques-plus-de-bornes-ouverts-au-public/20170314-145939/IRVE_PlusDeBornes_20170314.csv\n",
      "✅ downloaded file [opendataPlusDeBornes210316.csv] https://www.data.gouv.fr/s/resources/caracteristiques-des-points-de-charge-pour-vehicules-electriques-plus-de-bornes-ouverts-au-public/20160321-220522/opendataPlusDeBornes210316.csv\n",
      "⚠️ ignored file https://www.data.gouv.fr/s/resources/caracteristiques-des-points-de-charge-pour-vehicules-electriques-plus-de-bornes-ouverts-au-public/20160321-220457/opendataPlusDeBornes210316.xlsx\n",
      "✅ downloaded file [opendataPlusDeBornes.csv] https://www.data.gouv.fr/s/resources/caracteristiques-des-points-de-charge-pour-vehicules-electriques-plus-de-bornes-ouverts-au-public/community/20150415-164327/opendataPlusDeBornes.csv\n",
      "⚠️ ignored file https://www.data.gouv.fr/s/resources/caracteristiques-des-points-de-charge-pour-vehicules-electriques-plus-de-bornes-ouverts-au-public/community/20150415-164348/opendataPlusDeBornes.xls\n",
      "✅ downloaded file [irve-wiizcapl-20190129.csv] https://static.data.gouv.fr/resources/localisations-geographiques-et-caracteristiques-techniques-des-stations-et-des-points-de-recharge-pour-vehicules-electriques-du-reseau-wiiiz-implantes-sur-le-territoire-de-la-communaute-dagglomeration-cannes-lerins-france-department-06/20190129-154605/irve-wiizcapl-20190129.csv\n",
      "✅ downloaded file [irve-soregies-20190131.csv] https://static.data.gouv.fr/resources/stations-de-recharge-publiques-pour-vehicules-electriques-sur-le-departement-de-la-vienne/20190129-104823/irve-soregies-20190131.csv\n",
      "⚠️ ignored file https://static.data.gouv.fr/resources/stations-de-recharge-publiques-pour-vehicules-electriques-sur-le-departement-de-la-vienne/20190129-104958/irve-soregies-20190131.xlsx\n",
      "✅ downloaded file [irve-te90-20190304.csv] https://static.data.gouv.fr/resources/irve-territoire-denergie-90/20190304-135034/irve-te90-20190304.csv\n",
      "✅ downloaded file [irve-plusdebornes-20170314.csv] https://static.data.gouv.fr/resources/caraceristiques-des-points-de-charge-pour-vehicules-electriques-plus-de-bornes-ouverts-au-public/20181016-104302/irve-plusdebornes-20170314.csv\n",
      "✅ downloaded file [irve-se60-20190327.csv] https://static.data.gouv.fr/resources/mouvoise/20190327-141140/irve-se60-20190327.csv\n",
      "✅ downloaded file [irve-se60-20181115.csv] https://static.data.gouv.fr/resources/mouvoise/20181115-103446/irve-se60-20181115.csv\n",
      "✅ downloaded file [irve-se60-20181017.csv] https://static.data.gouv.fr/resources/mouvoise/20181017-115915/irve-se60-20181017.csv\n",
      "✅ downloaded file [irve-se60-20180921.csv] https://static.data.gouv.fr/resources/mouvoise/20180921-160835/irve-se60-20180921.csv\n",
      "✅ downloaded file [IRVE_SE60_20180816.csv] https://static.data.gouv.fr/resources/mouvoise/20180816-113720/IRVE_SE60_20180816.csv\n",
      "✅ downloaded file [IRVE_SE60_20180716.csv] https://www.data.gouv.fr/s/resources/mouvoise/20180716-113430/IRVE_SE60_20180716.csv\n",
      "✅ downloaded file [IRVE_SE60_20180517.csv] https://www.data.gouv.fr/s/resources/mouvoise/20180517-151839/IRVE_SE60_20180517.csv\n",
      "✅ downloaded file [IRVE_SE60_20180420.csv] https://www.data.gouv.fr/s/resources/mouvoise/20180420-152432/IRVE_SE60_20180420.csv\n",
      "✅ downloaded file [IRVE_SE60_20180301.csv] https://www.data.gouv.fr/s/resources/mouvoise/20180301-121304/IRVE_SE60_20180301.csv\n",
      "⚠️ ignored file https://www.data.gouv.fr/s/resources/mouvoise/20180129-111058/IRVE_SE60_20180129.xlsx\n",
      "⚠️ ignored file https://www.data.gouv.fr/s/resources/mouvoise/20171229-163630/IRVE_SE60_20171229.xlsx\n",
      "⚠️ ignored file https://www.data.gouv.fr/s/resources/mouvoise/20171103-142620/13_IRVE_SE60_20171103.xlsx\n",
      "⚠️ ignored file https://www.data.gouv.fr/s/resources/mouvoise/20171024-141635/13_IRVE_SE60_20171024.xlsx\n",
      "⚠️ ignored file https://www.data.gouv.fr/s/resources/mouvoise/20170918-151939/13_IRVE_SE60_20170915.xlsx\n",
      "⚠️ ignored file https://www.data.gouv.fr/s/resources/mouvoise/20170830-152305/13_IRVE_SE60_20170830.xlsx\n",
      "✅ downloaded file [IRVE_CNR_20170731.csv] https://www.data.gouv.fr/s/resources/mouvoise/20170731-115549/IRVE_CNR_20170731.csv\n",
      "✅ downloaded file [IRVE_SE60_20170630.csv] https://www.data.gouv.fr/s/resources/mouvoise/20170630-143353/IRVE_SE60_20170630.csv\n",
      "⚠️ ignored file https://www.data.gouv.fr/s/resources/mouvoise/20170627-152206/13_IRVE_SE60_20170623.xlsx\n",
      "⚠️ ignored file https://www.data.gouv.fr/s/resources/mouvoise/20170510-153224/IRVE_SE60_20170502.xlsx\n",
      "✅ downloaded file [20190306-sydego.csv] https://static.data.gouv.fr/resources/bornes-de-recharge-du-reseau-sydego-1/20190423-111754/20190306-sydego.csv\n",
      "✅ downloaded file [20190129-sydego.csv] https://static.data.gouv.fr/resources/sydego-1/20190313-164155/20190129-sydego.csv\n",
      "✅ downloaded file [irve-istres-20190509.csv] https://static.data.gouv.fr/resources/e-mouv-istres-bornes-de-recharge-pour-vehicule-electrique/20190510-090839/irve-istres-20190509.csv\n",
      "✅ downloaded file [irve-sde07-20190509.csv] https://static.data.gouv.fr/resources/sde07-bornes-de-recharge-pour-vehicule-electrique-3/20190510-101955/irve-sde07-20190509.csv\n",
      "✅ downloaded file [irve-sieeen-20190509.csv] https://static.data.gouv.fr/resources/sieeen-bornes-de-recharge-pour-vehicule-electrique/20190510-111209/irve-sieeen-20190509.csv\n",
      "✅ downloaded file [irve-syane-20190509.csv] https://static.data.gouv.fr/resources/syane-bornes-de-recharge-pour-vehicule-electrique/20190510-111533/irve-syane-20190509.csv\n",
      "✅ downloaded file [irve-simone-20190513.csv] https://static.data.gouv.fr/resources/infrastructures-de-recharge-pour-vehicules-electriques-simone-1/20190513-103951/irve-simone-20190513.csv\n",
      "✅ downloaded file [IRVE_SDE76_20180411.csv] https://www.data.gouv.fr/s/resources/bornes-de-recharge-sde-76-syndicat-departemental-denergie-de-la-seine-maritime/20180411-094624/IRVE_SDE76_20180411.csv\n",
      "✅ downloaded file [irve-sde56-20190128.csv] https://static.data.gouv.fr/resources/bornes-de-recharge-de-vehicules-electriques-irve/20190204-192454/irve-sde56-20190128.csv\n",
      "✅ downloaded file [25560110600024_bornes-de-recharge-de-vehicules-electriques-irve.csv] https://sdem.opendatasoft.com/explore/dataset/25560110600024_bornes-de-recharge-de-vehicules-electriques-irve/download?format=csv&timezone=Europe/Berlin&use_labels_for_header=true\n",
      "⚠️ ignored file https://sdem.opendatasoft.com/explore/dataset/25560110600024_bornes-de-recharge-de-vehicules-electriques-irve/download?format=json&timezone=Europe/Berlin&use_labels_for_header=true\n",
      "⚠️ ignored file https://sdem.opendatasoft.com/explore/dataset/25560110600024_bornes-de-recharge-de-vehicules-electriques-irve/download?format=geojson&timezone=Europe/Berlin&use_labels_for_header=true\n",
      "⚠️ ignored file https://sdem.opendatasoft.com/explore/dataset/25560110600024_bornes-de-recharge-de-vehicules-electriques-irve/download?format=shp&timezone=Europe/Berlin&use_labels_for_header=true\n",
      "⚠️ ignored file https://github.com/etalab/schema.data.gouv.fr/blob/master/irve/schema.json\n",
      "✅ downloaded file [irve-structure.csv] https://static.data.gouv.fr/resources/fichier-exemple-stations-de-recharge-de-vehicules-electriques/20180928-144118/irve-structure.csv\n",
      "Done\n"
     ]
    }
   ],
   "source": [
    "# Download all tabular files in data/ directory, as best as we can\n",
    "\n",
    "downloaded = []\n",
    "for d in datasets:\n",
    "    if not d['organization'] and not d['owner']:\n",
    "        print('❌', 'orphan dataset', d['slug'])\n",
    "        continue\n",
    "    orga = d['organization']['slug'] if d['organization'] else d['owner']['slug']\n",
    "    slug = d['slug']\n",
    "    for r in d['resources']:\n",
    "        rurl = r['url']\n",
    "        rid = r['id']\n",
    "        # ODS style NB: won't work more than once for CKAN\n",
    "        if 'format=csv' in rurl:\n",
    "            filename = rurl.split('/')[-3] + '.csv'\n",
    "        else:\n",
    "            filename = rurl.split('/')[-1]\n",
    "        ext = filename.split('.')[-1]\n",
    "        if ext != 'csv':\n",
    "            print('⚠️ ignored file %s' % rurl)\n",
    "            continue\n",
    "        r = requests.get(rurl, allow_redirects=True)\n",
    "        p = Path('data/%s' % slug)\n",
    "        p.mkdir(exist_ok=True)\n",
    "        written_filename = '%s.%s' % (rid, ext) \n",
    "        with open('%s/%s' % (p, written_filename), 'wb') as f:\n",
    "            f.write(r.content)\n",
    "            downloaded.append(filename)\n",
    "            print('✅ downloaded file [%s] %s' % (filename, rurl))\n",
    "print('Done')"
   ]
  },
  {
   "cell_type": "code",
   "execution_count": 36,
   "metadata": {},
   "outputs": [],
   "source": [
    "import warnings\n",
    "from agate.warns import UnnamedColumnWarning\n",
    "\n",
    "def parse_csv(file_path):\n",
    "    warnings.filterwarnings('ignore', category=UnnamedColumnWarning)\n",
    "    # deactivate type testing, this puts too much constraint on parsing\n",
    "    # especially for lat/lon columns with commas\n",
    "    tester = agate.TypeTester(types=(agate.Text, ), limit=0)\n",
    "    with file_path.open('rb') as f:\n",
    "        encoding = chardet.detect(f.read()).get('encoding')\n",
    "    try:\n",
    "        table = agate.Table.from_csv(file_path, encoding=encoding, sniff_limit=None, column_types=tester)\n",
    "    except Exception as e:\n",
    "        print('❌ CSV parse error for %s (%s)' % (file_path, e))\n",
    "    else:\n",
    "        return table\n",
    "    finally:\n",
    "        warnings.resetwarnings()"
   ]
  },
  {
   "cell_type": "code",
   "execution_count": 7,
   "metadata": {},
   "outputs": [],
   "source": [
    "columns_mapping = [\n",
    "    ('n_amenageur', 'nom_amenageur', 'n_amenageu'), \n",
    "    ('n_operateur', 'n_operateu'), \n",
    "    ('n_enseigne', ), \n",
    "    ('id_station', ), \n",
    "    ('n_station', 'nom_station'), \n",
    "    ('ad_station', 'adresse_station'), \n",
    "    ('code_insee', ), \n",
    "    ('Xlongitude', 'longitude_wsg84'), \n",
    "    ('Ylatitude', 'latitude_wsg84'), \n",
    "    ('nbre_pdc', 'nbre_borne'), \n",
    "    ('id_pdc', 'n° borne'), \n",
    "    ('puiss_max', ), \n",
    "    ('type_prise', 'type_connecteur', 'typ_charge'), \n",
    "    ('acces_recharge', 'modalité d\\'accès à la borne', 'acces_rech'), \n",
    "    ('accessibilité', 'accessibilitã©', 'accessibilite', 'accessibilit�', 'accessibilit‚'), \n",
    "    ('observations', ), \n",
    "    ('date_maj', ),\n",
    "]\n",
    "columns = ['n_amenageur', 'n_operateur', 'n_enseigne', 'id_station', 'n_station', 'ad_station', 'code_insee', 'Xlongitude', 'Ylatitude', 'nbre_pdc', 'id_pdc', 'puiss_max', 'type_prise', 'acces_recharge', 'accessibilité', 'observations', 'date_maj']\n",
    "columns_low = [x.lower() for x in columns]"
   ]
  },
  {
   "cell_type": "code",
   "execution_count": null,
   "metadata": {},
   "outputs": [],
   "source": [
    "# parse CSV files: analyze difference between standard schema and real data\n",
    "# infer a mapping of column names variation to match a maximum of data later\n",
    "\n",
    "# /!\\ this is only an analysis step that helped build `columns_mapping` above\n",
    "# you do not need to run this when doing a consolidation\n",
    "\n",
    "p = Path('data')\n",
    "for child in [x for x in p.iterdir() if x.is_dir()]:\n",
    "    csvs = list(child.glob('*.csv'))\n",
    "    for csv in csvs:\n",
    "        table = parse_csv(csv)\n",
    "        if table:\n",
    "            cols = [x.lower() for x in table.column_names]\n",
    "            missing_pivot = []\n",
    "            for pivot in ['id_station', 'id_pdc', 'date_maj']:\n",
    "                if pivot not in cols:\n",
    "                    missing_pivot.append(pivot)\n",
    "            if missing_pivot:\n",
    "                print('Skipping %s for missing pivot %s, cols were %s' % (csv, missing_pivot, cols))\n",
    "                break\n",
    "            diff = list(set(cols) - set(columns_low))\n",
    "            if diff:\n",
    "                print('DIFF for %s: %s' % (csv, diff))\n",
    "print('✅ ✅ ✅')"
   ]
  },
  {
   "cell_type": "code",
   "execution_count": 37,
   "metadata": {},
   "outputs": [
    {
     "name": "stdout",
     "output_type": "stream",
     "text": [
      "❌ CSV parse error for data/fichier-consolide-des-bornes-de-recharge-pour-vehicules-electriques-irve-1/ad303b51-f329-4117-959a-9751881461a7.csv (Row 0 has 2 values, but Table only has 1 columns.)\n",
      "❌ CSV parse error for data/infrastructures-de-recharge-pour-vehicules-electriques-irve-2/931f6677-cafa-4245-a43f-907d966d3f17.csv (Row 14 has 2 values, but Table only has 1 columns.)\n",
      "❌ CSV parse error for data/caracteristiques-et-localisation-des-stations-de-recharge-supercharger-tesla-1/d1651707-d3ed-4206-94e3-43c13610abb1.csv (Row 0 has 13 values, but Table only has 11 columns.)\n",
      "❌ CSV parse error for data/irve-syded-recensement-et-information-doubs/9764a367-5402-44b3-8a48-f2b7b5ef5a80.csv ('utf-8' codec can't decode byte 0x82 in position 393: invalid start byte)\n"
     ]
    },
    {
     "name": "stderr",
     "output_type": "stream",
     "text": [
      "/opt/conda/lib/python3.7/site-packages/ipykernel_launcher.py:14: ResourceWarning: unclosed file <_io.TextIOWrapper name='data/irve-syded-recensement-et-information-doubs/9764a367-5402-44b3-8a48-f2b7b5ef5a80.csv' mode='r' encoding='UTF-8'>\n"
     ]
    },
    {
     "name": "stdout",
     "output_type": "stream",
     "text": [
      "❌ CSV parse error for data/stations-et-espaces-autolib-de-la-metropole-parisienne-prs/bf7824b4-a1c3-4c14-8341-9e946ccfd5a8.csv (Row 0 has 2 values, but Table only has 1 columns.)\n",
      "❌ CSV parse error for data/stations-et-espaces-autolib-de-la-metropole-parisienne-prs/fadb4829-859a-4c92-a66b-125e6567bcee.csv (Row 0 has 2 values, but Table only has 1 columns.)\n",
      "❌ CSV parse error for data/borne-de-recharge-recharge-a-destination/211f32db-0183-41a9-9d6d-1935f4382608.csv (Row 0 has 18 values, but Table only has 16 columns.)\n",
      "✅ ✅ ✅\n"
     ]
    }
   ],
   "source": [
    "# use columns_mapping to build a database of unique stations based on (id_station, id_pdc, max(date_maj))\n",
    "bornes = []\n",
    "\n",
    "def find_by_pivot(row, lines):\n",
    "    pass\n",
    "\n",
    "def ifind_in_row_by_col(col, row):\n",
    "    for key in row.keys():\n",
    "        if col.lower() == key.lower():\n",
    "            return row[key]\n",
    "\n",
    "p = Path('data')\n",
    "\n",
    "for child in [x for x in p.iterdir() if x.is_dir()]:\n",
    "    csvs = list(child.glob('*.csv'))\n",
    "    for csv in csvs:\n",
    "        table = parse_csv(csv)\n",
    "        if table:\n",
    "            table_cols = [x.lower() for x in table.column_names]\n",
    "            missing_pivot = []\n",
    "            for pivot in ['id_station', 'id_pdc', 'date_maj']:\n",
    "                if pivot not in table_cols:\n",
    "                    missing_pivot.append(pivot)\n",
    "            if missing_pivot:\n",
    "                break\n",
    "            for row in table.rows:\n",
    "                borne = {}\n",
    "                for col in columns_mapping:\n",
    "                    for c in col:\n",
    "                        if c.lower() in table_cols:\n",
    "                            # use the standard name for column\n",
    "                            borne[col[0]] = ifind_in_row_by_col(c, row)\n",
    "                            break\n",
    "                upatt = 'https://www.data.gouv.fr/fr/datasets/%s/#resource-%s'\n",
    "                borne['source'] = upatt % (csv.parents[0].stem, csv.stem)\n",
    "                bornes.append(borne)\n",
    "                \n",
    "print('✅ ✅ ✅')"
   ]
  },
  {
   "cell_type": "code",
   "execution_count": 38,
   "metadata": {},
   "outputs": [
    {
     "data": {
      "text/plain": [
       "43410"
      ]
     },
     "execution_count": 38,
     "metadata": {},
     "output_type": "execute_result"
    }
   ],
   "source": [
    "len(bornes)"
   ]
  },
  {
   "cell_type": "code",
   "execution_count": 39,
   "metadata": {},
   "outputs": [
    {
     "data": {
      "text/plain": [
       "12356"
      ]
     },
     "execution_count": 39,
     "metadata": {},
     "output_type": "execute_result"
    }
   ],
   "source": [
    "# deduplicate based on date_maj and id_pdc\n",
    "from dateutil.parser import parse\n",
    "\n",
    "unique_bornes = []\n",
    "\n",
    "def parse_date(date):\n",
    "    date = str(date)\n",
    "    try:\n",
    "        return parse(date)\n",
    "    except ValueError:\n",
    "        return parse('1970-1-1')\n",
    "\n",
    "# filter out id_pdc==None\n",
    "# TODO maybe use (id_station, id_pdc) instead of only id_pdc\n",
    "ids = set([b['id_pdc'] for b in bornes if (b['id_pdc'] and str(b['id_pdc']).strip())])\n",
    "for _id in ids:\n",
    "    bs = [b for b in bornes if b['id_pdc'] == _id]\n",
    "    if len(bs) > 1:\n",
    "        max_date = max([parse_date(b['date_maj']) for b in bs])\n",
    "        unique = [b for b in bs if parse_date(b['date_maj']) == max_date][0]\n",
    "    else:\n",
    "        unique = bs[0]\n",
    "    ## Data hacks\n",
    "    # replace `date_maj` original value with parsed date\n",
    "    unique['date_maj'] = parse_date(unique['date_maj']).strftime('%Y/%m/%d')\n",
    "    # replace `Xlongitude` and `Xlatitude` commas with points\n",
    "    unique['Xlongitude'] = unique['Xlongitude'].replace(',', '.') if unique['Xlongitude'] else ''\n",
    "    unique['Ylatitude'] = unique['Ylatitude'].replace(',', '.') if unique['Ylatitude'] else ''\n",
    "    unique_bornes.append(unique)\n",
    "    \n",
    "len(unique_bornes)"
   ]
  },
  {
   "cell_type": "code",
   "execution_count": 40,
   "metadata": {},
   "outputs": [
    {
     "data": {
      "text/plain": [
       "(43410, 38665, 12356)"
      ]
     },
     "execution_count": 40,
     "metadata": {},
     "output_type": "execute_result"
    }
   ],
   "source": [
    "len(bornes), len([b for b in bornes if b['id_pdc']]), len(unique_bornes)"
   ]
  },
  {
   "cell_type": "code",
   "execution_count": 41,
   "metadata": {},
   "outputs": [],
   "source": [
    "# enjoy the results!\n",
    "\n",
    "import csv\n",
    "\n",
    "# sort by n_amenageur\n",
    "unique_bornes.sort(key=lambda k: k['n_amenageur'])\n",
    "\n",
    "with open('bornes-IRVE.csv', 'w') as csvfile:\n",
    "    writer = csv.DictWriter(csvfile, fieldnames=columns + ['source'], delimiter=';')\n",
    "    writer.writeheader()\n",
    "    for b in unique_bornes:\n",
    "        writer.writerow(b)"
   ]
  },
  {
   "cell_type": "markdown",
   "metadata": {},
   "source": [
    "## Debug / test"
   ]
  },
  {
   "cell_type": "code",
   "execution_count": 3,
   "metadata": {},
   "outputs": [
    {
     "name": "stdout",
     "output_type": "stream",
     "text": [
      "<agate.Row: ('USEDA', 'CITEOS-FRESHMILE', 'DIRVE 02', 'FR*S02*E0255529A', '0029 - Place du March� ', ...)>\n",
      "<agate.Row: ('USEDA', 'CITEOS-FRESHMILE', 'DIRVE 02', 'FR*S02*E0255529A', '0029 - Place du March� ', ...)>\n",
      "<agate.Row: ('USEDA', 'CITEOS-FRESHMILE', 'DIRVE 02', 'FR*S02*E026913A', '0003 - GARE1 ', ...)>\n"
     ]
    }
   ],
   "source": [
    "# encoding\n",
    "\n",
    "source = 'data/union-des-secteurs-denergie-du-departement-de-laisne/IRVE_USEDADIRVE02_20180806.csv'\n",
    "\n",
    "table = agate.Table.from_csv(source, sniff_limit=4096)\n",
    "\n",
    "for row in table.rows[:3]:\n",
    "    print(row)\n",
    "    \n",
    "# conclusion: this file is UTF-8 but data inside are encoded in something else... Nothing we can do automatically"
   ]
  },
  {
   "cell_type": "code",
   "execution_count": 19,
   "metadata": {},
   "outputs": [
    {
     "data": {
      "text/plain": [
       "'2018/09/05'"
      ]
     },
     "execution_count": 19,
     "metadata": {},
     "output_type": "execute_result"
    }
   ],
   "source": [
    "parse_date('2018-09-05 00:00:00').strftime('%Y/%m/%d')"
   ]
  },
  {
   "cell_type": "code",
   "execution_count": 32,
   "metadata": {},
   "outputs": [
    {
     "name": "stdout",
     "output_type": "stream",
     "text": [
      "1312516\n",
      "1312516\n",
      "1312516\n",
      "1312516\n"
     ]
    }
   ],
   "source": [
    "# lat/long parsing\n",
    "\n",
    "table = agate.Table.from_csv('data/alexandre-court-2/IRVE_Reveo_20180820.csv', encoding='latin-1', sniff_limit=4096)\n",
    "for row in table.rows:\n",
    "    if 'DEGAGNAC' in row['n_station']:\n",
    "        print(row['Xlongitude'])"
   ]
  },
  {
   "cell_type": "code",
   "execution_count": null,
   "metadata": {},
   "outputs": [],
   "source": []
  }
 ],
 "metadata": {
  "kernelspec": {
   "display_name": "Python 3",
   "language": "python",
   "name": "python3"
  },
  "language_info": {
   "codemirror_mode": {
    "name": "ipython",
    "version": 3
   },
   "file_extension": ".py",
   "mimetype": "text/x-python",
   "name": "python",
   "nbconvert_exporter": "python",
   "pygments_lexer": "ipython3",
   "version": "3.7.3"
  }
 },
 "nbformat": 4,
 "nbformat_minor": 2
}
